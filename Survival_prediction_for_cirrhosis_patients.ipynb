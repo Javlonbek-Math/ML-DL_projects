{
 "cells": [
  {
   "cell_type": "code",
   "execution_count": 1,
   "id": "d687ed80",
   "metadata": {
    "_cell_guid": "b1076dfc-b9ad-4769-8c92-a6c4dae69d19",
    "_uuid": "8f2839f25d086af736a60e9eeb907d3b93b6e0e5",
    "execution": {
     "iopub.execute_input": "2025-04-24T08:01:51.948185Z",
     "iopub.status.busy": "2025-04-24T08:01:51.947860Z",
     "iopub.status.idle": "2025-04-24T08:01:57.368519Z",
     "shell.execute_reply": "2025-04-24T08:01:57.367110Z"
    },
    "papermill": {
     "duration": 5.431591,
     "end_time": "2025-04-24T08:01:57.370687",
     "exception": false,
     "start_time": "2025-04-24T08:01:51.939096",
     "status": "completed"
    },
    "tags": []
   },
   "outputs": [
    {
     "name": "stdout",
     "output_type": "stream",
     "text": [
      "/kaggle/input/multiclassificationtask/sample_submission.csv\n",
      "/kaggle/input/multiclassificationtask/train.csv\n",
      "/kaggle/input/multiclassificationtask/test.csv\n"
     ]
    }
   ],
   "source": [
    "# This Python 3 environment comes with many helpful analytics libraries installed\n",
    "# It is defined by the kaggle/python Docker image: https://github.com/kaggle/docker-python\n",
    "# For example, here's several helpful packages to load\n",
    "\n",
    "import numpy as np # linear algebra\n",
    "import pandas as pd # data processing, CSV file I/O (e.g. pd.read_csv)\n",
    "import matplotlib.pyplot as plt\n",
    "import seaborn as sns\n",
    "\n",
    "from sklearn.preprocessing import StandardScaler, LabelEncoder\n",
    "from sklearn.model_selection import train_test_split\n",
    "from sklearn.compose import ColumnTransformer\n",
    "\n",
    "from sklearn.linear_model import LogisticRegression\n",
    "from sklearn.ensemble import GradientBoostingClassifier\n",
    "import xgboost as xgb\n",
    "from sklearn.ensemble import RandomForestClassifier\n",
    "\n",
    "from sklearn.pipeline import Pipeline \n",
    "from sklearn.base import TransformerMixin, BaseEstimator\n",
    "from sklearn.impute import SimpleImputer\n",
    "from sklearn.preprocessing import OrdinalEncoder\n",
    "\n",
    "from sklearn.metrics import log_loss\n",
    "# Input data files are available in the read-only \"../input/\" directory\n",
    "# For example, running this (by clicking run or pressing Shift+Enter) will list all files under the input directory\n",
    "\n",
    "import os\n",
    "for dirname, _, filenames in os.walk('/kaggle/input'):\n",
    "    for filename in filenames:\n",
    "        print(os.path.join(dirname, filename))\n",
    "\n",
    "# You can write up to 20GB to the current directory (/kaggle/working/) that gets preserved as output when you create a version using \"Save & Run All\" \n",
    "# You can also write temporary files to /kaggle/temp/, but they won't be saved outside of the current session"
   ]
  },
  {
   "cell_type": "code",
   "execution_count": 2,
   "id": "3de3cee1",
   "metadata": {
    "execution": {
     "iopub.execute_input": "2025-04-24T08:01:57.389715Z",
     "iopub.status.busy": "2025-04-24T08:01:57.388584Z",
     "iopub.status.idle": "2025-04-24T08:01:57.510767Z",
     "shell.execute_reply": "2025-04-24T08:01:57.509617Z"
    },
    "papermill": {
     "duration": 0.134259,
     "end_time": "2025-04-24T08:01:57.512668",
     "exception": false,
     "start_time": "2025-04-24T08:01:57.378409",
     "status": "completed"
    },
    "tags": []
   },
   "outputs": [
    {
     "data": {
      "text/html": [
       "<div>\n",
       "<style scoped>\n",
       "    .dataframe tbody tr th:only-of-type {\n",
       "        vertical-align: middle;\n",
       "    }\n",
       "\n",
       "    .dataframe tbody tr th {\n",
       "        vertical-align: top;\n",
       "    }\n",
       "\n",
       "    .dataframe thead th {\n",
       "        text-align: right;\n",
       "    }\n",
       "</style>\n",
       "<table border=\"1\" class=\"dataframe\">\n",
       "  <thead>\n",
       "    <tr style=\"text-align: right;\">\n",
       "      <th></th>\n",
       "      <th>id</th>\n",
       "      <th>N_Days</th>\n",
       "      <th>Drug</th>\n",
       "      <th>Age</th>\n",
       "      <th>Sex</th>\n",
       "      <th>Ascites</th>\n",
       "      <th>Hepatomegaly</th>\n",
       "      <th>Spiders</th>\n",
       "      <th>Edema</th>\n",
       "      <th>Bilirubin</th>\n",
       "      <th>Cholesterol</th>\n",
       "      <th>Albumin</th>\n",
       "      <th>Copper</th>\n",
       "      <th>Alk_Phos</th>\n",
       "      <th>SGOT</th>\n",
       "      <th>Tryglicerides</th>\n",
       "      <th>Platelets</th>\n",
       "      <th>Prothrombin</th>\n",
       "      <th>Stage</th>\n",
       "      <th>Status</th>\n",
       "    </tr>\n",
       "  </thead>\n",
       "  <tbody>\n",
       "    <tr>\n",
       "      <th>0</th>\n",
       "      <td>0</td>\n",
       "      <td>2178.0</td>\n",
       "      <td>D-penicillamine</td>\n",
       "      <td>16374.0</td>\n",
       "      <td>F</td>\n",
       "      <td>N</td>\n",
       "      <td>N</td>\n",
       "      <td>N</td>\n",
       "      <td>N</td>\n",
       "      <td>0.5</td>\n",
       "      <td>263.0</td>\n",
       "      <td>3.20</td>\n",
       "      <td>43.0</td>\n",
       "      <td>1110.0</td>\n",
       "      <td>106.95</td>\n",
       "      <td>67.0</td>\n",
       "      <td>430.0</td>\n",
       "      <td>9.6</td>\n",
       "      <td>3.0</td>\n",
       "      <td>C</td>\n",
       "    </tr>\n",
       "    <tr>\n",
       "      <th>1</th>\n",
       "      <td>1</td>\n",
       "      <td>2644.0</td>\n",
       "      <td>D-penicillamine</td>\n",
       "      <td>17774.0</td>\n",
       "      <td>F</td>\n",
       "      <td>N</td>\n",
       "      <td>N</td>\n",
       "      <td>N</td>\n",
       "      <td>N</td>\n",
       "      <td>0.8</td>\n",
       "      <td>280.0</td>\n",
       "      <td>3.60</td>\n",
       "      <td>22.0</td>\n",
       "      <td>678.0</td>\n",
       "      <td>62.00</td>\n",
       "      <td>80.0</td>\n",
       "      <td>427.0</td>\n",
       "      <td>13.0</td>\n",
       "      <td>3.0</td>\n",
       "      <td>C</td>\n",
       "    </tr>\n",
       "    <tr>\n",
       "      <th>2</th>\n",
       "      <td>2</td>\n",
       "      <td>3069.0</td>\n",
       "      <td>Placebo</td>\n",
       "      <td>17844.0</td>\n",
       "      <td>F</td>\n",
       "      <td>N</td>\n",
       "      <td>N</td>\n",
       "      <td>N</td>\n",
       "      <td>N</td>\n",
       "      <td>1.1</td>\n",
       "      <td>408.0</td>\n",
       "      <td>4.40</td>\n",
       "      <td>54.0</td>\n",
       "      <td>2108.0</td>\n",
       "      <td>142.60</td>\n",
       "      <td>137.0</td>\n",
       "      <td>203.0</td>\n",
       "      <td>10.6</td>\n",
       "      <td>3.0</td>\n",
       "      <td>C</td>\n",
       "    </tr>\n",
       "    <tr>\n",
       "      <th>3</th>\n",
       "      <td>3</td>\n",
       "      <td>2216.0</td>\n",
       "      <td>Placebo</td>\n",
       "      <td>19221.0</td>\n",
       "      <td>F</td>\n",
       "      <td>N</td>\n",
       "      <td>Y</td>\n",
       "      <td>Y</td>\n",
       "      <td>N</td>\n",
       "      <td>0.8</td>\n",
       "      <td>252.0</td>\n",
       "      <td>3.70</td>\n",
       "      <td>36.0</td>\n",
       "      <td>843.0</td>\n",
       "      <td>55.80</td>\n",
       "      <td>56.0</td>\n",
       "      <td>336.0</td>\n",
       "      <td>9.6</td>\n",
       "      <td>4.0</td>\n",
       "      <td>C</td>\n",
       "    </tr>\n",
       "    <tr>\n",
       "      <th>4</th>\n",
       "      <td>4</td>\n",
       "      <td>2256.0</td>\n",
       "      <td>Placebo</td>\n",
       "      <td>21600.0</td>\n",
       "      <td>F</td>\n",
       "      <td>N</td>\n",
       "      <td>N</td>\n",
       "      <td>N</td>\n",
       "      <td>N</td>\n",
       "      <td>4.7</td>\n",
       "      <td>348.0</td>\n",
       "      <td>3.06</td>\n",
       "      <td>464.0</td>\n",
       "      <td>961.0</td>\n",
       "      <td>120.90</td>\n",
       "      <td>146.0</td>\n",
       "      <td>298.0</td>\n",
       "      <td>11.0</td>\n",
       "      <td>2.0</td>\n",
       "      <td>D</td>\n",
       "    </tr>\n",
       "  </tbody>\n",
       "</table>\n",
       "</div>"
      ],
      "text/plain": [
       "   id  N_Days             Drug      Age Sex Ascites Hepatomegaly Spiders  \\\n",
       "0   0  2178.0  D-penicillamine  16374.0   F       N            N       N   \n",
       "1   1  2644.0  D-penicillamine  17774.0   F       N            N       N   \n",
       "2   2  3069.0          Placebo  17844.0   F       N            N       N   \n",
       "3   3  2216.0          Placebo  19221.0   F       N            Y       Y   \n",
       "4   4  2256.0          Placebo  21600.0   F       N            N       N   \n",
       "\n",
       "  Edema  Bilirubin  Cholesterol  Albumin  Copper  Alk_Phos    SGOT  \\\n",
       "0     N        0.5        263.0     3.20    43.0    1110.0  106.95   \n",
       "1     N        0.8        280.0     3.60    22.0     678.0   62.00   \n",
       "2     N        1.1        408.0     4.40    54.0    2108.0  142.60   \n",
       "3     N        0.8        252.0     3.70    36.0     843.0   55.80   \n",
       "4     N        4.7        348.0     3.06   464.0     961.0  120.90   \n",
       "\n",
       "   Tryglicerides  Platelets  Prothrombin  Stage Status  \n",
       "0           67.0      430.0          9.6    3.0      C  \n",
       "1           80.0      427.0         13.0    3.0      C  \n",
       "2          137.0      203.0         10.6    3.0      C  \n",
       "3           56.0      336.0          9.6    4.0      C  \n",
       "4          146.0      298.0         11.0    2.0      D  "
      ]
     },
     "execution_count": 2,
     "metadata": {},
     "output_type": "execute_result"
    }
   ],
   "source": [
    "train=pd.read_csv('/kaggle/input/multiclassificationtask/train.csv')\n",
    "train.head()"
   ]
  },
  {
   "cell_type": "code",
   "execution_count": 3,
   "id": "e5b6b037",
   "metadata": {
    "execution": {
     "iopub.execute_input": "2025-04-24T08:01:57.530303Z",
     "iopub.status.busy": "2025-04-24T08:01:57.529528Z",
     "iopub.status.idle": "2025-04-24T08:01:57.597286Z",
     "shell.execute_reply": "2025-04-24T08:01:57.596046Z"
    },
    "papermill": {
     "duration": 0.078859,
     "end_time": "2025-04-24T08:01:57.599274",
     "exception": false,
     "start_time": "2025-04-24T08:01:57.520415",
     "status": "completed"
    },
    "tags": []
   },
   "outputs": [
    {
     "name": "stderr",
     "output_type": "stream",
     "text": [
      "/usr/local/lib/python3.11/dist-packages/pandas/io/formats/format.py:1458: RuntimeWarning: invalid value encountered in greater\n",
      "  has_large_values = (abs_vals > 1e6).any()\n",
      "/usr/local/lib/python3.11/dist-packages/pandas/io/formats/format.py:1459: RuntimeWarning: invalid value encountered in less\n",
      "  has_small_values = ((abs_vals < 10 ** (-self.digits)) & (abs_vals > 0)).any()\n",
      "/usr/local/lib/python3.11/dist-packages/pandas/io/formats/format.py:1459: RuntimeWarning: invalid value encountered in greater\n",
      "  has_small_values = ((abs_vals < 10 ** (-self.digits)) & (abs_vals > 0)).any()\n"
     ]
    },
    {
     "data": {
      "text/html": [
       "<div>\n",
       "<style scoped>\n",
       "    .dataframe tbody tr th:only-of-type {\n",
       "        vertical-align: middle;\n",
       "    }\n",
       "\n",
       "    .dataframe tbody tr th {\n",
       "        vertical-align: top;\n",
       "    }\n",
       "\n",
       "    .dataframe thead th {\n",
       "        text-align: right;\n",
       "    }\n",
       "</style>\n",
       "<table border=\"1\" class=\"dataframe\">\n",
       "  <thead>\n",
       "    <tr style=\"text-align: right;\">\n",
       "      <th></th>\n",
       "      <th>id</th>\n",
       "      <th>N_Days</th>\n",
       "      <th>Drug</th>\n",
       "      <th>Age</th>\n",
       "      <th>Sex</th>\n",
       "      <th>Ascites</th>\n",
       "      <th>Hepatomegaly</th>\n",
       "      <th>Spiders</th>\n",
       "      <th>Edema</th>\n",
       "      <th>Bilirubin</th>\n",
       "      <th>Cholesterol</th>\n",
       "      <th>Albumin</th>\n",
       "      <th>Copper</th>\n",
       "      <th>Alk_Phos</th>\n",
       "      <th>SGOT</th>\n",
       "      <th>Tryglicerides</th>\n",
       "      <th>Platelets</th>\n",
       "      <th>Prothrombin</th>\n",
       "      <th>Stage</th>\n",
       "    </tr>\n",
       "  </thead>\n",
       "  <tbody>\n",
       "    <tr>\n",
       "      <th>0</th>\n",
       "      <td>15000</td>\n",
       "      <td>22646.0</td>\n",
       "      <td>NaN</td>\n",
       "      <td>22646.0</td>\n",
       "      <td>F</td>\n",
       "      <td>NaN</td>\n",
       "      <td>NaN</td>\n",
       "      <td>NaN</td>\n",
       "      <td>N</td>\n",
       "      <td>1.4</td>\n",
       "      <td>NaN</td>\n",
       "      <td>3.34</td>\n",
       "      <td>NaN</td>\n",
       "      <td>NaN</td>\n",
       "      <td>NaN</td>\n",
       "      <td>NaN</td>\n",
       "      <td>190.0</td>\n",
       "      <td>11.0</td>\n",
       "      <td>4.0</td>\n",
       "    </tr>\n",
       "    <tr>\n",
       "      <th>1</th>\n",
       "      <td>15001</td>\n",
       "      <td>2149.0</td>\n",
       "      <td>NaN</td>\n",
       "      <td>18993.0</td>\n",
       "      <td>F</td>\n",
       "      <td>NaN</td>\n",
       "      <td>NaN</td>\n",
       "      <td>NaN</td>\n",
       "      <td>N</td>\n",
       "      <td>0.9</td>\n",
       "      <td>NaN</td>\n",
       "      <td>3.24</td>\n",
       "      <td>NaN</td>\n",
       "      <td>NaN</td>\n",
       "      <td>NaN</td>\n",
       "      <td>NaN</td>\n",
       "      <td>233.0</td>\n",
       "      <td>9.0</td>\n",
       "      <td>2.0</td>\n",
       "    </tr>\n",
       "    <tr>\n",
       "      <th>2</th>\n",
       "      <td>15002</td>\n",
       "      <td>3850.0</td>\n",
       "      <td>D-penicillamine</td>\n",
       "      <td>16050.0</td>\n",
       "      <td>M</td>\n",
       "      <td>N</td>\n",
       "      <td>N</td>\n",
       "      <td>N</td>\n",
       "      <td>N</td>\n",
       "      <td>1.0</td>\n",
       "      <td>460.0</td>\n",
       "      <td>3.64</td>\n",
       "      <td>75.0</td>\n",
       "      <td>2148.0</td>\n",
       "      <td>102.3</td>\n",
       "      <td>118.0</td>\n",
       "      <td>172.0</td>\n",
       "      <td>10.6</td>\n",
       "      <td>3.0</td>\n",
       "    </tr>\n",
       "    <tr>\n",
       "      <th>3</th>\n",
       "      <td>15003</td>\n",
       "      <td>2419.0</td>\n",
       "      <td>D-penicillamine</td>\n",
       "      <td>20354.0</td>\n",
       "      <td>F</td>\n",
       "      <td>N</td>\n",
       "      <td>N</td>\n",
       "      <td>N</td>\n",
       "      <td>N</td>\n",
       "      <td>0.6</td>\n",
       "      <td>258.0</td>\n",
       "      <td>3.96</td>\n",
       "      <td>31.0</td>\n",
       "      <td>642.0</td>\n",
       "      <td>70.0</td>\n",
       "      <td>83.0</td>\n",
       "      <td>336.0</td>\n",
       "      <td>10.8</td>\n",
       "      <td>2.0</td>\n",
       "    </tr>\n",
       "    <tr>\n",
       "      <th>4</th>\n",
       "      <td>15004</td>\n",
       "      <td>1086.0</td>\n",
       "      <td>NaN</td>\n",
       "      <td>23376.0</td>\n",
       "      <td>F</td>\n",
       "      <td>NaN</td>\n",
       "      <td>NaN</td>\n",
       "      <td>NaN</td>\n",
       "      <td>N</td>\n",
       "      <td>4.4</td>\n",
       "      <td>NaN</td>\n",
       "      <td>4.40</td>\n",
       "      <td>NaN</td>\n",
       "      <td>NaN</td>\n",
       "      <td>NaN</td>\n",
       "      <td>NaN</td>\n",
       "      <td>447.0</td>\n",
       "      <td>10.3</td>\n",
       "      <td>2.0</td>\n",
       "    </tr>\n",
       "  </tbody>\n",
       "</table>\n",
       "</div>"
      ],
      "text/plain": [
       "      id   N_Days             Drug      Age Sex Ascites Hepatomegaly Spiders  \\\n",
       "0  15000  22646.0              NaN  22646.0   F     NaN          NaN     NaN   \n",
       "1  15001   2149.0              NaN  18993.0   F     NaN          NaN     NaN   \n",
       "2  15002   3850.0  D-penicillamine  16050.0   M       N            N       N   \n",
       "3  15003   2419.0  D-penicillamine  20354.0   F       N            N       N   \n",
       "4  15004   1086.0              NaN  23376.0   F     NaN          NaN     NaN   \n",
       "\n",
       "  Edema  Bilirubin  Cholesterol  Albumin  Copper  Alk_Phos   SGOT  \\\n",
       "0     N        1.4          NaN     3.34     NaN       NaN    NaN   \n",
       "1     N        0.9          NaN     3.24     NaN       NaN    NaN   \n",
       "2     N        1.0        460.0     3.64    75.0    2148.0  102.3   \n",
       "3     N        0.6        258.0     3.96    31.0     642.0   70.0   \n",
       "4     N        4.4          NaN     4.40     NaN       NaN    NaN   \n",
       "\n",
       "   Tryglicerides  Platelets  Prothrombin  Stage  \n",
       "0            NaN      190.0         11.0    4.0  \n",
       "1            NaN      233.0          9.0    2.0  \n",
       "2          118.0      172.0         10.6    3.0  \n",
       "3           83.0      336.0         10.8    2.0  \n",
       "4            NaN      447.0         10.3    2.0  "
      ]
     },
     "execution_count": 3,
     "metadata": {},
     "output_type": "execute_result"
    }
   ],
   "source": [
    "test=pd.read_csv('/kaggle/input/multiclassificationtask/test.csv')\n",
    "test.head()"
   ]
  },
  {
   "cell_type": "markdown",
   "id": "bf271312",
   "metadata": {
    "papermill": {
     "duration": 0.007151,
     "end_time": "2025-04-24T08:01:57.614123",
     "exception": false,
     "start_time": "2025-04-24T08:01:57.606972",
     "status": "completed"
    },
    "tags": []
   },
   "source": [
    "## **Step 1 : Data Analysis**"
   ]
  },
  {
   "cell_type": "code",
   "execution_count": 4,
   "id": "417f0594",
   "metadata": {
    "execution": {
     "iopub.execute_input": "2025-04-24T08:01:57.630746Z",
     "iopub.status.busy": "2025-04-24T08:01:57.630329Z",
     "iopub.status.idle": "2025-04-24T08:01:57.637371Z",
     "shell.execute_reply": "2025-04-24T08:01:57.636163Z"
    },
    "papermill": {
     "duration": 0.01754,
     "end_time": "2025-04-24T08:01:57.639222",
     "exception": false,
     "start_time": "2025-04-24T08:01:57.621682",
     "status": "completed"
    },
    "tags": []
   },
   "outputs": [
    {
     "data": {
      "text/plain": [
       "(15000, 20)"
      ]
     },
     "execution_count": 4,
     "metadata": {},
     "output_type": "execute_result"
    }
   ],
   "source": [
    "train.shape"
   ]
  },
  {
   "cell_type": "code",
   "execution_count": 5,
   "id": "96ffc3b1",
   "metadata": {
    "execution": {
     "iopub.execute_input": "2025-04-24T08:01:57.656422Z",
     "iopub.status.busy": "2025-04-24T08:01:57.656045Z",
     "iopub.status.idle": "2025-04-24T08:01:57.671852Z",
     "shell.execute_reply": "2025-04-24T08:01:57.670705Z"
    },
    "papermill": {
     "duration": 0.026368,
     "end_time": "2025-04-24T08:01:57.673458",
     "exception": false,
     "start_time": "2025-04-24T08:01:57.647090",
     "status": "completed"
    },
    "tags": []
   },
   "outputs": [
    {
     "data": {
      "text/plain": [
       "id                  0\n",
       "N_Days              0\n",
       "Drug             6506\n",
       "Age                 0\n",
       "Sex                 0\n",
       "Ascites          6498\n",
       "Hepatomegaly     6508\n",
       "Spiders          6509\n",
       "Edema               0\n",
       "Bilirubin           0\n",
       "Cholesterol      8299\n",
       "Albumin             0\n",
       "Copper           6601\n",
       "Alk_Phos         6512\n",
       "SGOT             6514\n",
       "Tryglicerides    8334\n",
       "Platelets         564\n",
       "Prothrombin        16\n",
       "Stage               0\n",
       "Status              0\n",
       "dtype: int64"
      ]
     },
     "execution_count": 5,
     "metadata": {},
     "output_type": "execute_result"
    }
   ],
   "source": [
    "train.isnull().sum()"
   ]
  },
  {
   "cell_type": "code",
   "execution_count": 6,
   "id": "ad2be0a3",
   "metadata": {
    "execution": {
     "iopub.execute_input": "2025-04-24T08:01:57.691467Z",
     "iopub.status.busy": "2025-04-24T08:01:57.691142Z",
     "iopub.status.idle": "2025-04-24T08:01:57.724764Z",
     "shell.execute_reply": "2025-04-24T08:01:57.723145Z"
    },
    "papermill": {
     "duration": 0.046939,
     "end_time": "2025-04-24T08:01:57.728018",
     "exception": false,
     "start_time": "2025-04-24T08:01:57.681079",
     "status": "completed"
    },
    "tags": []
   },
   "outputs": [
    {
     "name": "stdout",
     "output_type": "stream",
     "text": [
      "<class 'pandas.core.frame.DataFrame'>\n",
      "RangeIndex: 15000 entries, 0 to 14999\n",
      "Data columns (total 20 columns):\n",
      " #   Column         Non-Null Count  Dtype  \n",
      "---  ------         --------------  -----  \n",
      " 0   id             15000 non-null  int64  \n",
      " 1   N_Days         15000 non-null  float64\n",
      " 2   Drug           8494 non-null   object \n",
      " 3   Age            15000 non-null  float64\n",
      " 4   Sex            15000 non-null  object \n",
      " 5   Ascites        8502 non-null   object \n",
      " 6   Hepatomegaly   8492 non-null   object \n",
      " 7   Spiders        8491 non-null   object \n",
      " 8   Edema          15000 non-null  object \n",
      " 9   Bilirubin      15000 non-null  float64\n",
      " 10  Cholesterol    6701 non-null   float64\n",
      " 11  Albumin        15000 non-null  float64\n",
      " 12  Copper         8399 non-null   float64\n",
      " 13  Alk_Phos       8488 non-null   float64\n",
      " 14  SGOT           8486 non-null   float64\n",
      " 15  Tryglicerides  6666 non-null   float64\n",
      " 16  Platelets      14436 non-null  float64\n",
      " 17  Prothrombin    14984 non-null  float64\n",
      " 18  Stage          15000 non-null  float64\n",
      " 19  Status         15000 non-null  object \n",
      "dtypes: float64(12), int64(1), object(7)\n",
      "memory usage: 2.3+ MB\n"
     ]
    }
   ],
   "source": [
    "train.info()"
   ]
  },
  {
   "cell_type": "code",
   "execution_count": 7,
   "id": "ae9b1239",
   "metadata": {
    "execution": {
     "iopub.execute_input": "2025-04-24T08:01:57.746504Z",
     "iopub.status.busy": "2025-04-24T08:01:57.746181Z",
     "iopub.status.idle": "2025-04-24T08:01:57.755025Z",
     "shell.execute_reply": "2025-04-24T08:01:57.754010Z"
    },
    "papermill": {
     "duration": 0.019616,
     "end_time": "2025-04-24T08:01:57.756791",
     "exception": false,
     "start_time": "2025-04-24T08:01:57.737175",
     "status": "completed"
    },
    "tags": []
   },
   "outputs": [
    {
     "data": {
      "text/plain": [
       "Drug\n",
       "D-penicillamine    4610\n",
       "Placebo            3884\n",
       "Name: count, dtype: int64"
      ]
     },
     "execution_count": 7,
     "metadata": {},
     "output_type": "execute_result"
    }
   ],
   "source": [
    "train.Drug.value_counts()"
   ]
  },
  {
   "cell_type": "code",
   "execution_count": 8,
   "id": "b5880cc4",
   "metadata": {
    "execution": {
     "iopub.execute_input": "2025-04-24T08:01:57.774503Z",
     "iopub.status.busy": "2025-04-24T08:01:57.773932Z",
     "iopub.status.idle": "2025-04-24T08:01:57.784372Z",
     "shell.execute_reply": "2025-04-24T08:01:57.783252Z"
    },
    "papermill": {
     "duration": 0.020834,
     "end_time": "2025-04-24T08:01:57.786139",
     "exception": false,
     "start_time": "2025-04-24T08:01:57.765305",
     "status": "completed"
    },
    "tags": []
   },
   "outputs": [
    {
     "data": {
      "text/plain": [
       "Ascites\n",
       "N    8116\n",
       "Y     386\n",
       "Name: count, dtype: int64"
      ]
     },
     "execution_count": 8,
     "metadata": {},
     "output_type": "execute_result"
    }
   ],
   "source": [
    "train.Ascites .value_counts()"
   ]
  },
  {
   "cell_type": "code",
   "execution_count": 9,
   "id": "55e3671f",
   "metadata": {
    "execution": {
     "iopub.execute_input": "2025-04-24T08:01:57.802648Z",
     "iopub.status.busy": "2025-04-24T08:01:57.802295Z",
     "iopub.status.idle": "2025-04-24T08:01:57.811399Z",
     "shell.execute_reply": "2025-04-24T08:01:57.809833Z"
    },
    "papermill": {
     "duration": 0.019325,
     "end_time": "2025-04-24T08:01:57.813208",
     "exception": false,
     "start_time": "2025-04-24T08:01:57.793883",
     "status": "completed"
    },
    "tags": []
   },
   "outputs": [
    {
     "data": {
      "text/plain": [
       "Hepatomegaly\n",
       "N    4634\n",
       "Y    3858\n",
       "Name: count, dtype: int64"
      ]
     },
     "execution_count": 9,
     "metadata": {},
     "output_type": "execute_result"
    }
   ],
   "source": [
    "train.Hepatomegaly.value_counts()"
   ]
  },
  {
   "cell_type": "code",
   "execution_count": 10,
   "id": "b7eb985b",
   "metadata": {
    "execution": {
     "iopub.execute_input": "2025-04-24T08:01:57.830964Z",
     "iopub.status.busy": "2025-04-24T08:01:57.830563Z",
     "iopub.status.idle": "2025-04-24T08:01:57.839092Z",
     "shell.execute_reply": "2025-04-24T08:01:57.838149Z"
    },
    "papermill": {
     "duration": 0.018843,
     "end_time": "2025-04-24T08:01:57.840600",
     "exception": false,
     "start_time": "2025-04-24T08:01:57.821757",
     "status": "completed"
    },
    "tags": []
   },
   "outputs": [
    {
     "data": {
      "text/plain": [
       "Spiders\n",
       "N    6769\n",
       "Y    1722\n",
       "Name: count, dtype: int64"
      ]
     },
     "execution_count": 10,
     "metadata": {},
     "output_type": "execute_result"
    }
   ],
   "source": [
    "train.Spiders .value_counts()"
   ]
  },
  {
   "cell_type": "code",
   "execution_count": 11,
   "id": "2c99ae1d",
   "metadata": {
    "execution": {
     "iopub.execute_input": "2025-04-24T08:01:57.857224Z",
     "iopub.status.busy": "2025-04-24T08:01:57.856863Z",
     "iopub.status.idle": "2025-04-24T08:01:57.876580Z",
     "shell.execute_reply": "2025-04-24T08:01:57.875779Z"
    },
    "papermill": {
     "duration": 0.030434,
     "end_time": "2025-04-24T08:01:57.878843",
     "exception": false,
     "start_time": "2025-04-24T08:01:57.848409",
     "status": "completed"
    },
    "tags": []
   },
   "outputs": [],
   "source": [
    "train.drop_duplicates(inplace=True)"
   ]
  },
  {
   "cell_type": "markdown",
   "id": "3309449f",
   "metadata": {
    "papermill": {
     "duration": 0.007166,
     "end_time": "2025-04-24T08:01:57.893697",
     "exception": false,
     "start_time": "2025-04-24T08:01:57.886531",
     "status": "completed"
    },
    "tags": []
   },
   "source": [
    "\n",
    "\n",
    "**From the Caterogical columns, I planned to fill nan values such a way:**\n",
    "\n",
    "**1. Columns which weighed to one side will be filled this most frequent value**\n",
    "\n",
    "**2. Columns which have big difference between values will be filled with 'ffill' method**\n",
    "\n",
    "\n",
    "\n",
    "\n",
    "**For Numerical columns, nan values will be filled with 'median' method**\n",
    "\n"
   ]
  },
  {
   "cell_type": "code",
   "execution_count": 12,
   "id": "8e56ad97",
   "metadata": {
    "execution": {
     "iopub.execute_input": "2025-04-24T08:01:57.910164Z",
     "iopub.status.busy": "2025-04-24T08:01:57.909685Z",
     "iopub.status.idle": "2025-04-24T08:01:57.936181Z",
     "shell.execute_reply": "2025-04-24T08:01:57.935220Z"
    },
    "papermill": {
     "duration": 0.036774,
     "end_time": "2025-04-24T08:01:57.937924",
     "exception": false,
     "start_time": "2025-04-24T08:01:57.901150",
     "status": "completed"
    },
    "tags": []
   },
   "outputs": [
    {
     "data": {
      "text/html": [
       "<div>\n",
       "<style scoped>\n",
       "    .dataframe tbody tr th:only-of-type {\n",
       "        vertical-align: middle;\n",
       "    }\n",
       "\n",
       "    .dataframe tbody tr th {\n",
       "        vertical-align: top;\n",
       "    }\n",
       "\n",
       "    .dataframe thead th {\n",
       "        text-align: right;\n",
       "    }\n",
       "</style>\n",
       "<table border=\"1\" class=\"dataframe\">\n",
       "  <thead>\n",
       "    <tr style=\"text-align: right;\">\n",
       "      <th></th>\n",
       "      <th>id</th>\n",
       "      <th>N_Days</th>\n",
       "      <th>Drug</th>\n",
       "      <th>Sex</th>\n",
       "      <th>Ascites</th>\n",
       "      <th>Hepatomegaly</th>\n",
       "      <th>Spiders</th>\n",
       "      <th>Edema</th>\n",
       "      <th>Bilirubin</th>\n",
       "      <th>Cholesterol</th>\n",
       "      <th>Albumin</th>\n",
       "      <th>Copper</th>\n",
       "      <th>Alk_Phos</th>\n",
       "      <th>SGOT</th>\n",
       "      <th>Tryglicerides</th>\n",
       "      <th>Platelets</th>\n",
       "      <th>Prothrombin</th>\n",
       "      <th>Stage</th>\n",
       "      <th>Status</th>\n",
       "      <th>age_in_years</th>\n",
       "    </tr>\n",
       "  </thead>\n",
       "  <tbody>\n",
       "    <tr>\n",
       "      <th>0</th>\n",
       "      <td>0</td>\n",
       "      <td>2178.0</td>\n",
       "      <td>D-penicillamine</td>\n",
       "      <td>F</td>\n",
       "      <td>N</td>\n",
       "      <td>N</td>\n",
       "      <td>N</td>\n",
       "      <td>N</td>\n",
       "      <td>0.5</td>\n",
       "      <td>263.0</td>\n",
       "      <td>3.20</td>\n",
       "      <td>43.0</td>\n",
       "      <td>1110.0</td>\n",
       "      <td>106.95</td>\n",
       "      <td>67.0</td>\n",
       "      <td>430.0</td>\n",
       "      <td>9.6</td>\n",
       "      <td>3.0</td>\n",
       "      <td>C</td>\n",
       "      <td>44</td>\n",
       "    </tr>\n",
       "    <tr>\n",
       "      <th>1</th>\n",
       "      <td>1</td>\n",
       "      <td>2644.0</td>\n",
       "      <td>D-penicillamine</td>\n",
       "      <td>F</td>\n",
       "      <td>N</td>\n",
       "      <td>N</td>\n",
       "      <td>N</td>\n",
       "      <td>N</td>\n",
       "      <td>0.8</td>\n",
       "      <td>280.0</td>\n",
       "      <td>3.60</td>\n",
       "      <td>22.0</td>\n",
       "      <td>678.0</td>\n",
       "      <td>62.00</td>\n",
       "      <td>80.0</td>\n",
       "      <td>427.0</td>\n",
       "      <td>13.0</td>\n",
       "      <td>3.0</td>\n",
       "      <td>C</td>\n",
       "      <td>48</td>\n",
       "    </tr>\n",
       "    <tr>\n",
       "      <th>2</th>\n",
       "      <td>2</td>\n",
       "      <td>3069.0</td>\n",
       "      <td>Placebo</td>\n",
       "      <td>F</td>\n",
       "      <td>N</td>\n",
       "      <td>N</td>\n",
       "      <td>N</td>\n",
       "      <td>N</td>\n",
       "      <td>1.1</td>\n",
       "      <td>408.0</td>\n",
       "      <td>4.40</td>\n",
       "      <td>54.0</td>\n",
       "      <td>2108.0</td>\n",
       "      <td>142.60</td>\n",
       "      <td>137.0</td>\n",
       "      <td>203.0</td>\n",
       "      <td>10.6</td>\n",
       "      <td>3.0</td>\n",
       "      <td>C</td>\n",
       "      <td>48</td>\n",
       "    </tr>\n",
       "    <tr>\n",
       "      <th>3</th>\n",
       "      <td>3</td>\n",
       "      <td>2216.0</td>\n",
       "      <td>Placebo</td>\n",
       "      <td>F</td>\n",
       "      <td>N</td>\n",
       "      <td>Y</td>\n",
       "      <td>Y</td>\n",
       "      <td>N</td>\n",
       "      <td>0.8</td>\n",
       "      <td>252.0</td>\n",
       "      <td>3.70</td>\n",
       "      <td>36.0</td>\n",
       "      <td>843.0</td>\n",
       "      <td>55.80</td>\n",
       "      <td>56.0</td>\n",
       "      <td>336.0</td>\n",
       "      <td>9.6</td>\n",
       "      <td>4.0</td>\n",
       "      <td>C</td>\n",
       "      <td>52</td>\n",
       "    </tr>\n",
       "    <tr>\n",
       "      <th>4</th>\n",
       "      <td>4</td>\n",
       "      <td>2256.0</td>\n",
       "      <td>Placebo</td>\n",
       "      <td>F</td>\n",
       "      <td>N</td>\n",
       "      <td>N</td>\n",
       "      <td>N</td>\n",
       "      <td>N</td>\n",
       "      <td>4.7</td>\n",
       "      <td>348.0</td>\n",
       "      <td>3.06</td>\n",
       "      <td>464.0</td>\n",
       "      <td>961.0</td>\n",
       "      <td>120.90</td>\n",
       "      <td>146.0</td>\n",
       "      <td>298.0</td>\n",
       "      <td>11.0</td>\n",
       "      <td>2.0</td>\n",
       "      <td>D</td>\n",
       "      <td>59</td>\n",
       "    </tr>\n",
       "  </tbody>\n",
       "</table>\n",
       "</div>"
      ],
      "text/plain": [
       "   id  N_Days             Drug Sex Ascites Hepatomegaly Spiders Edema  \\\n",
       "0   0  2178.0  D-penicillamine   F       N            N       N     N   \n",
       "1   1  2644.0  D-penicillamine   F       N            N       N     N   \n",
       "2   2  3069.0          Placebo   F       N            N       N     N   \n",
       "3   3  2216.0          Placebo   F       N            Y       Y     N   \n",
       "4   4  2256.0          Placebo   F       N            N       N     N   \n",
       "\n",
       "   Bilirubin  Cholesterol  Albumin  Copper  Alk_Phos    SGOT  Tryglicerides  \\\n",
       "0        0.5        263.0     3.20    43.0    1110.0  106.95           67.0   \n",
       "1        0.8        280.0     3.60    22.0     678.0   62.00           80.0   \n",
       "2        1.1        408.0     4.40    54.0    2108.0  142.60          137.0   \n",
       "3        0.8        252.0     3.70    36.0     843.0   55.80           56.0   \n",
       "4        4.7        348.0     3.06   464.0     961.0  120.90          146.0   \n",
       "\n",
       "   Platelets  Prothrombin  Stage Status  age_in_years  \n",
       "0      430.0          9.6    3.0      C            44  \n",
       "1      427.0         13.0    3.0      C            48  \n",
       "2      203.0         10.6    3.0      C            48  \n",
       "3      336.0          9.6    4.0      C            52  \n",
       "4      298.0         11.0    2.0      D            59  "
      ]
     },
     "execution_count": 12,
     "metadata": {},
     "output_type": "execute_result"
    }
   ],
   "source": [
    "train['age_in_years']=(train['Age']/365).astype(int)\n",
    "train.drop('Age', axis=1, inplace=True)\n",
    "train.head()"
   ]
  },
  {
   "cell_type": "code",
   "execution_count": 13,
   "id": "bd3f54a0",
   "metadata": {
    "execution": {
     "iopub.execute_input": "2025-04-24T08:01:57.955407Z",
     "iopub.status.busy": "2025-04-24T08:01:57.955112Z",
     "iopub.status.idle": "2025-04-24T08:01:57.976169Z",
     "shell.execute_reply": "2025-04-24T08:01:57.975023Z"
    },
    "papermill": {
     "duration": 0.031646,
     "end_time": "2025-04-24T08:01:57.977868",
     "exception": false,
     "start_time": "2025-04-24T08:01:57.946222",
     "status": "completed"
    },
    "tags": []
   },
   "outputs": [
    {
     "data": {
      "text/html": [
       "<div>\n",
       "<style scoped>\n",
       "    .dataframe tbody tr th:only-of-type {\n",
       "        vertical-align: middle;\n",
       "    }\n",
       "\n",
       "    .dataframe tbody tr th {\n",
       "        vertical-align: top;\n",
       "    }\n",
       "\n",
       "    .dataframe thead th {\n",
       "        text-align: right;\n",
       "    }\n",
       "</style>\n",
       "<table border=\"1\" class=\"dataframe\">\n",
       "  <thead>\n",
       "    <tr style=\"text-align: right;\">\n",
       "      <th></th>\n",
       "      <th>id</th>\n",
       "      <th>N_Days</th>\n",
       "      <th>Drug</th>\n",
       "      <th>Sex</th>\n",
       "      <th>Ascites</th>\n",
       "      <th>Hepatomegaly</th>\n",
       "      <th>Spiders</th>\n",
       "      <th>Edema</th>\n",
       "      <th>Bilirubin</th>\n",
       "      <th>Cholesterol</th>\n",
       "      <th>Albumin</th>\n",
       "      <th>Copper</th>\n",
       "      <th>Alk_Phos</th>\n",
       "      <th>SGOT</th>\n",
       "      <th>Tryglicerides</th>\n",
       "      <th>Platelets</th>\n",
       "      <th>Prothrombin</th>\n",
       "      <th>Stage</th>\n",
       "      <th>Status</th>\n",
       "      <th>age_in_years</th>\n",
       "    </tr>\n",
       "  </thead>\n",
       "  <tbody>\n",
       "    <tr>\n",
       "      <th>0</th>\n",
       "      <td>0</td>\n",
       "      <td>2178.0</td>\n",
       "      <td>D-penicillamine</td>\n",
       "      <td>F</td>\n",
       "      <td>N</td>\n",
       "      <td>N</td>\n",
       "      <td>N</td>\n",
       "      <td>N</td>\n",
       "      <td>0.5</td>\n",
       "      <td>263.0</td>\n",
       "      <td>3.20</td>\n",
       "      <td>43.0</td>\n",
       "      <td>1110.0</td>\n",
       "      <td>106.95</td>\n",
       "      <td>67.0</td>\n",
       "      <td>430.0</td>\n",
       "      <td>9.6</td>\n",
       "      <td>3.0</td>\n",
       "      <td>C</td>\n",
       "      <td>44</td>\n",
       "    </tr>\n",
       "    <tr>\n",
       "      <th>1</th>\n",
       "      <td>1</td>\n",
       "      <td>2644.0</td>\n",
       "      <td>D-penicillamine</td>\n",
       "      <td>F</td>\n",
       "      <td>N</td>\n",
       "      <td>N</td>\n",
       "      <td>N</td>\n",
       "      <td>N</td>\n",
       "      <td>0.8</td>\n",
       "      <td>280.0</td>\n",
       "      <td>3.60</td>\n",
       "      <td>22.0</td>\n",
       "      <td>678.0</td>\n",
       "      <td>62.00</td>\n",
       "      <td>80.0</td>\n",
       "      <td>427.0</td>\n",
       "      <td>13.0</td>\n",
       "      <td>3.0</td>\n",
       "      <td>C</td>\n",
       "      <td>48</td>\n",
       "    </tr>\n",
       "    <tr>\n",
       "      <th>2</th>\n",
       "      <td>2</td>\n",
       "      <td>3069.0</td>\n",
       "      <td>Placebo</td>\n",
       "      <td>F</td>\n",
       "      <td>N</td>\n",
       "      <td>N</td>\n",
       "      <td>N</td>\n",
       "      <td>N</td>\n",
       "      <td>1.1</td>\n",
       "      <td>408.0</td>\n",
       "      <td>4.40</td>\n",
       "      <td>54.0</td>\n",
       "      <td>2108.0</td>\n",
       "      <td>142.60</td>\n",
       "      <td>137.0</td>\n",
       "      <td>203.0</td>\n",
       "      <td>10.6</td>\n",
       "      <td>3.0</td>\n",
       "      <td>C</td>\n",
       "      <td>48</td>\n",
       "    </tr>\n",
       "    <tr>\n",
       "      <th>3</th>\n",
       "      <td>3</td>\n",
       "      <td>2216.0</td>\n",
       "      <td>Placebo</td>\n",
       "      <td>F</td>\n",
       "      <td>N</td>\n",
       "      <td>Y</td>\n",
       "      <td>Y</td>\n",
       "      <td>N</td>\n",
       "      <td>0.8</td>\n",
       "      <td>252.0</td>\n",
       "      <td>3.70</td>\n",
       "      <td>36.0</td>\n",
       "      <td>843.0</td>\n",
       "      <td>55.80</td>\n",
       "      <td>56.0</td>\n",
       "      <td>336.0</td>\n",
       "      <td>9.6</td>\n",
       "      <td>4.0</td>\n",
       "      <td>C</td>\n",
       "      <td>52</td>\n",
       "    </tr>\n",
       "    <tr>\n",
       "      <th>4</th>\n",
       "      <td>4</td>\n",
       "      <td>2256.0</td>\n",
       "      <td>Placebo</td>\n",
       "      <td>F</td>\n",
       "      <td>N</td>\n",
       "      <td>N</td>\n",
       "      <td>N</td>\n",
       "      <td>N</td>\n",
       "      <td>4.7</td>\n",
       "      <td>348.0</td>\n",
       "      <td>3.06</td>\n",
       "      <td>464.0</td>\n",
       "      <td>961.0</td>\n",
       "      <td>120.90</td>\n",
       "      <td>146.0</td>\n",
       "      <td>298.0</td>\n",
       "      <td>11.0</td>\n",
       "      <td>2.0</td>\n",
       "      <td>D</td>\n",
       "      <td>59</td>\n",
       "    </tr>\n",
       "  </tbody>\n",
       "</table>\n",
       "</div>"
      ],
      "text/plain": [
       "   id  N_Days             Drug Sex Ascites Hepatomegaly Spiders Edema  \\\n",
       "0   0  2178.0  D-penicillamine   F       N            N       N     N   \n",
       "1   1  2644.0  D-penicillamine   F       N            N       N     N   \n",
       "2   2  3069.0          Placebo   F       N            N       N     N   \n",
       "3   3  2216.0          Placebo   F       N            Y       Y     N   \n",
       "4   4  2256.0          Placebo   F       N            N       N     N   \n",
       "\n",
       "   Bilirubin  Cholesterol  Albumin  Copper  Alk_Phos    SGOT  Tryglicerides  \\\n",
       "0        0.5        263.0     3.20    43.0    1110.0  106.95           67.0   \n",
       "1        0.8        280.0     3.60    22.0     678.0   62.00           80.0   \n",
       "2        1.1        408.0     4.40    54.0    2108.0  142.60          137.0   \n",
       "3        0.8        252.0     3.70    36.0     843.0   55.80           56.0   \n",
       "4        4.7        348.0     3.06   464.0     961.0  120.90          146.0   \n",
       "\n",
       "   Platelets  Prothrombin  Stage Status  age_in_years  \n",
       "0      430.0          9.6    3.0      C            44  \n",
       "1      427.0         13.0    3.0      C            48  \n",
       "2      203.0         10.6    3.0      C            48  \n",
       "3      336.0          9.6    4.0      C            52  \n",
       "4      298.0         11.0    2.0      D            59  "
      ]
     },
     "execution_count": 13,
     "metadata": {},
     "output_type": "execute_result"
    }
   ],
   "source": [
    "train.head()"
   ]
  },
  {
   "cell_type": "code",
   "execution_count": 14,
   "id": "84f78d0f",
   "metadata": {
    "execution": {
     "iopub.execute_input": "2025-04-24T08:01:57.999028Z",
     "iopub.status.busy": "2025-04-24T08:01:57.997918Z",
     "iopub.status.idle": "2025-04-24T08:01:58.010030Z",
     "shell.execute_reply": "2025-04-24T08:01:58.008908Z"
    },
    "papermill": {
     "duration": 0.023821,
     "end_time": "2025-04-24T08:01:58.012255",
     "exception": false,
     "start_time": "2025-04-24T08:01:57.988434",
     "status": "completed"
    },
    "tags": []
   },
   "outputs": [],
   "source": [
    "train=train[train['Status'] != 'Y']\n",
    "X=train.drop(columns=['id','Status'])\n",
    "y=train['Status']"
   ]
  },
  {
   "cell_type": "code",
   "execution_count": 15,
   "id": "1af2ceb4",
   "metadata": {
    "execution": {
     "iopub.execute_input": "2025-04-24T08:01:58.098532Z",
     "iopub.status.busy": "2025-04-24T08:01:58.098222Z",
     "iopub.status.idle": "2025-04-24T08:01:58.122515Z",
     "shell.execute_reply": "2025-04-24T08:01:58.121200Z"
    },
    "papermill": {
     "duration": 0.035037,
     "end_time": "2025-04-24T08:01:58.124155",
     "exception": false,
     "start_time": "2025-04-24T08:01:58.089118",
     "status": "completed"
    },
    "tags": []
   },
   "outputs": [
    {
     "name": "stderr",
     "output_type": "stream",
     "text": [
      "/usr/local/lib/python3.11/dist-packages/pandas/io/formats/format.py:1458: RuntimeWarning: invalid value encountered in greater\n",
      "  has_large_values = (abs_vals > 1e6).any()\n",
      "/usr/local/lib/python3.11/dist-packages/pandas/io/formats/format.py:1459: RuntimeWarning: invalid value encountered in less\n",
      "  has_small_values = ((abs_vals < 10 ** (-self.digits)) & (abs_vals > 0)).any()\n",
      "/usr/local/lib/python3.11/dist-packages/pandas/io/formats/format.py:1459: RuntimeWarning: invalid value encountered in greater\n",
      "  has_small_values = ((abs_vals < 10 ** (-self.digits)) & (abs_vals > 0)).any()\n"
     ]
    },
    {
     "data": {
      "text/html": [
       "<div>\n",
       "<style scoped>\n",
       "    .dataframe tbody tr th:only-of-type {\n",
       "        vertical-align: middle;\n",
       "    }\n",
       "\n",
       "    .dataframe tbody tr th {\n",
       "        vertical-align: top;\n",
       "    }\n",
       "\n",
       "    .dataframe thead th {\n",
       "        text-align: right;\n",
       "    }\n",
       "</style>\n",
       "<table border=\"1\" class=\"dataframe\">\n",
       "  <thead>\n",
       "    <tr style=\"text-align: right;\">\n",
       "      <th></th>\n",
       "      <th>N_Days</th>\n",
       "      <th>Drug</th>\n",
       "      <th>Sex</th>\n",
       "      <th>Ascites</th>\n",
       "      <th>Hepatomegaly</th>\n",
       "      <th>Spiders</th>\n",
       "      <th>Edema</th>\n",
       "      <th>Bilirubin</th>\n",
       "      <th>Cholesterol</th>\n",
       "      <th>Albumin</th>\n",
       "      <th>Copper</th>\n",
       "      <th>Alk_Phos</th>\n",
       "      <th>SGOT</th>\n",
       "      <th>Tryglicerides</th>\n",
       "      <th>Platelets</th>\n",
       "      <th>Prothrombin</th>\n",
       "      <th>Stage</th>\n",
       "      <th>age_in_years</th>\n",
       "    </tr>\n",
       "  </thead>\n",
       "  <tbody>\n",
       "    <tr>\n",
       "      <th>0</th>\n",
       "      <td>22646.0</td>\n",
       "      <td>NaN</td>\n",
       "      <td>F</td>\n",
       "      <td>NaN</td>\n",
       "      <td>NaN</td>\n",
       "      <td>NaN</td>\n",
       "      <td>N</td>\n",
       "      <td>1.4</td>\n",
       "      <td>NaN</td>\n",
       "      <td>3.34</td>\n",
       "      <td>NaN</td>\n",
       "      <td>NaN</td>\n",
       "      <td>NaN</td>\n",
       "      <td>NaN</td>\n",
       "      <td>190.0</td>\n",
       "      <td>11.0</td>\n",
       "      <td>4.0</td>\n",
       "      <td>62</td>\n",
       "    </tr>\n",
       "    <tr>\n",
       "      <th>1</th>\n",
       "      <td>2149.0</td>\n",
       "      <td>NaN</td>\n",
       "      <td>F</td>\n",
       "      <td>NaN</td>\n",
       "      <td>NaN</td>\n",
       "      <td>NaN</td>\n",
       "      <td>N</td>\n",
       "      <td>0.9</td>\n",
       "      <td>NaN</td>\n",
       "      <td>3.24</td>\n",
       "      <td>NaN</td>\n",
       "      <td>NaN</td>\n",
       "      <td>NaN</td>\n",
       "      <td>NaN</td>\n",
       "      <td>233.0</td>\n",
       "      <td>9.0</td>\n",
       "      <td>2.0</td>\n",
       "      <td>52</td>\n",
       "    </tr>\n",
       "    <tr>\n",
       "      <th>2</th>\n",
       "      <td>3850.0</td>\n",
       "      <td>D-penicillamine</td>\n",
       "      <td>M</td>\n",
       "      <td>N</td>\n",
       "      <td>N</td>\n",
       "      <td>N</td>\n",
       "      <td>N</td>\n",
       "      <td>1.0</td>\n",
       "      <td>460.0</td>\n",
       "      <td>3.64</td>\n",
       "      <td>75.0</td>\n",
       "      <td>2148.0</td>\n",
       "      <td>102.3</td>\n",
       "      <td>118.0</td>\n",
       "      <td>172.0</td>\n",
       "      <td>10.6</td>\n",
       "      <td>3.0</td>\n",
       "      <td>43</td>\n",
       "    </tr>\n",
       "    <tr>\n",
       "      <th>3</th>\n",
       "      <td>2419.0</td>\n",
       "      <td>D-penicillamine</td>\n",
       "      <td>F</td>\n",
       "      <td>N</td>\n",
       "      <td>N</td>\n",
       "      <td>N</td>\n",
       "      <td>N</td>\n",
       "      <td>0.6</td>\n",
       "      <td>258.0</td>\n",
       "      <td>3.96</td>\n",
       "      <td>31.0</td>\n",
       "      <td>642.0</td>\n",
       "      <td>70.0</td>\n",
       "      <td>83.0</td>\n",
       "      <td>336.0</td>\n",
       "      <td>10.8</td>\n",
       "      <td>2.0</td>\n",
       "      <td>55</td>\n",
       "    </tr>\n",
       "    <tr>\n",
       "      <th>4</th>\n",
       "      <td>1086.0</td>\n",
       "      <td>NaN</td>\n",
       "      <td>F</td>\n",
       "      <td>NaN</td>\n",
       "      <td>NaN</td>\n",
       "      <td>NaN</td>\n",
       "      <td>N</td>\n",
       "      <td>4.4</td>\n",
       "      <td>NaN</td>\n",
       "      <td>4.40</td>\n",
       "      <td>NaN</td>\n",
       "      <td>NaN</td>\n",
       "      <td>NaN</td>\n",
       "      <td>NaN</td>\n",
       "      <td>447.0</td>\n",
       "      <td>10.3</td>\n",
       "      <td>2.0</td>\n",
       "      <td>64</td>\n",
       "    </tr>\n",
       "  </tbody>\n",
       "</table>\n",
       "</div>"
      ],
      "text/plain": [
       "    N_Days             Drug Sex Ascites Hepatomegaly Spiders Edema  Bilirubin  \\\n",
       "0  22646.0              NaN   F     NaN          NaN     NaN     N        1.4   \n",
       "1   2149.0              NaN   F     NaN          NaN     NaN     N        0.9   \n",
       "2   3850.0  D-penicillamine   M       N            N       N     N        1.0   \n",
       "3   2419.0  D-penicillamine   F       N            N       N     N        0.6   \n",
       "4   1086.0              NaN   F     NaN          NaN     NaN     N        4.4   \n",
       "\n",
       "   Cholesterol  Albumin  Copper  Alk_Phos   SGOT  Tryglicerides  Platelets  \\\n",
       "0          NaN     3.34     NaN       NaN    NaN            NaN      190.0   \n",
       "1          NaN     3.24     NaN       NaN    NaN            NaN      233.0   \n",
       "2        460.0     3.64    75.0    2148.0  102.3          118.0      172.0   \n",
       "3        258.0     3.96    31.0     642.0   70.0           83.0      336.0   \n",
       "4          NaN     4.40     NaN       NaN    NaN            NaN      447.0   \n",
       "\n",
       "   Prothrombin  Stage  age_in_years  \n",
       "0         11.0    4.0            62  \n",
       "1          9.0    2.0            52  \n",
       "2         10.6    3.0            43  \n",
       "3         10.8    2.0            55  \n",
       "4         10.3    2.0            64  "
      ]
     },
     "execution_count": 15,
     "metadata": {},
     "output_type": "execute_result"
    }
   ],
   "source": [
    "test['age_in_years']=(test['Age']/365).astype(int)\n",
    "test.drop(['Age','id'], axis=1, inplace=True)\n",
    "test.head()"
   ]
  },
  {
   "cell_type": "code",
   "execution_count": 16,
   "id": "5ee862d2",
   "metadata": {
    "execution": {
     "iopub.execute_input": "2025-04-24T08:01:58.142224Z",
     "iopub.status.busy": "2025-04-24T08:01:58.141861Z",
     "iopub.status.idle": "2025-04-24T08:01:58.155356Z",
     "shell.execute_reply": "2025-04-24T08:01:58.154400Z"
    },
    "papermill": {
     "duration": 0.024204,
     "end_time": "2025-04-24T08:01:58.156928",
     "exception": false,
     "start_time": "2025-04-24T08:01:58.132724",
     "status": "completed"
    },
    "tags": []
   },
   "outputs": [
    {
     "data": {
      "text/plain": [
       "N_Days              0\n",
       "Drug             4398\n",
       "Sex                 0\n",
       "Ascites          4391\n",
       "Hepatomegaly     4402\n",
       "Spiders          4404\n",
       "Edema               0\n",
       "Bilirubin           0\n",
       "Cholesterol      5647\n",
       "Albumin             0\n",
       "Copper           4469\n",
       "Alk_Phos         4403\n",
       "SGOT             4406\n",
       "Tryglicerides    5680\n",
       "Platelets         382\n",
       "Prothrombin         9\n",
       "Stage               0\n",
       "age_in_years        0\n",
       "dtype: int64"
      ]
     },
     "execution_count": 16,
     "metadata": {},
     "output_type": "execute_result"
    }
   ],
   "source": [
    "test.isnull().sum()"
   ]
  },
  {
   "cell_type": "markdown",
   "id": "5d47f908",
   "metadata": {
    "papermill": {
     "duration": 0.008214,
     "end_time": "2025-04-24T08:01:58.173807",
     "exception": false,
     "start_time": "2025-04-24T08:01:58.165593",
     "status": "completed"
    },
    "tags": []
   },
   "source": [
    "## **Step 2 : Pipeline**"
   ]
  },
  {
   "cell_type": "code",
   "execution_count": 17,
   "id": "3d54e485",
   "metadata": {
    "execution": {
     "iopub.execute_input": "2025-04-24T08:01:58.192090Z",
     "iopub.status.busy": "2025-04-24T08:01:58.191675Z",
     "iopub.status.idle": "2025-04-24T08:01:58.197592Z",
     "shell.execute_reply": "2025-04-24T08:01:58.196822Z"
    },
    "papermill": {
     "duration": 0.016927,
     "end_time": "2025-04-24T08:01:58.199156",
     "exception": false,
     "start_time": "2025-04-24T08:01:58.182229",
     "status": "completed"
    },
    "tags": []
   },
   "outputs": [],
   "source": [
    "most_frequent_cols=['Ascites','Spiders','Sex','Edema']\n",
    "ffill_cols = ['Drug', 'Hepatomegaly']\n",
    "num_cols = X.select_dtypes(include=['number']).columns.tolist()"
   ]
  },
  {
   "cell_type": "code",
   "execution_count": 18,
   "id": "3fa60209",
   "metadata": {
    "execution": {
     "iopub.execute_input": "2025-04-24T08:01:58.217704Z",
     "iopub.status.busy": "2025-04-24T08:01:58.217363Z",
     "iopub.status.idle": "2025-04-24T08:01:58.222724Z",
     "shell.execute_reply": "2025-04-24T08:01:58.221733Z"
    },
    "papermill": {
     "duration": 0.016232,
     "end_time": "2025-04-24T08:01:58.224279",
     "exception": false,
     "start_time": "2025-04-24T08:01:58.208047",
     "status": "completed"
    },
    "tags": []
   },
   "outputs": [],
   "source": [
    "class ForwardFillImputer(TransformerMixin, BaseEstimator):\n",
    "    def fit(self, X, y=None):\n",
    "        return self\n",
    "    def transform(self, X):\n",
    "        return pd.DataFrame(X).ffill().values"
   ]
  },
  {
   "cell_type": "code",
   "execution_count": 19,
   "id": "a0f14ec6",
   "metadata": {
    "execution": {
     "iopub.execute_input": "2025-04-24T08:01:58.242873Z",
     "iopub.status.busy": "2025-04-24T08:01:58.242495Z",
     "iopub.status.idle": "2025-04-24T08:01:58.248677Z",
     "shell.execute_reply": "2025-04-24T08:01:58.247546Z"
    },
    "papermill": {
     "duration": 0.017359,
     "end_time": "2025-04-24T08:01:58.250337",
     "exception": false,
     "start_time": "2025-04-24T08:01:58.232978",
     "status": "completed"
    },
    "tags": []
   },
   "outputs": [],
   "source": [
    "most_freq_pipeline = Pipeline([\n",
    "    ('imputer', SimpleImputer(strategy='most_frequent')),\n",
    "    ('encoder', OrdinalEncoder(handle_unknown='use_encoded_value', unknown_value=-1))\n",
    "])\n",
    "ffill_pipeline = Pipeline([\n",
    "    ('ffill', ForwardFillImputer()),\n",
    "    ('encoder', OrdinalEncoder(handle_unknown='use_encoded_value', unknown_value=-1))\n",
    "])\n",
    "num_pipeline = Pipeline([\n",
    "    ('imputer', SimpleImputer(strategy='median')),\n",
    "    ('scaler', StandardScaler())\n",
    "])"
   ]
  },
  {
   "cell_type": "code",
   "execution_count": 20,
   "id": "ce1c4b5d",
   "metadata": {
    "execution": {
     "iopub.execute_input": "2025-04-24T08:01:58.268792Z",
     "iopub.status.busy": "2025-04-24T08:01:58.268389Z",
     "iopub.status.idle": "2025-04-24T08:01:58.273604Z",
     "shell.execute_reply": "2025-04-24T08:01:58.272559Z"
    },
    "papermill": {
     "duration": 0.016148,
     "end_time": "2025-04-24T08:01:58.275280",
     "exception": false,
     "start_time": "2025-04-24T08:01:58.259132",
     "status": "completed"
    },
    "tags": []
   },
   "outputs": [],
   "source": [
    "full_pipeline = ColumnTransformer([\n",
    "    ('most_freq_cat', most_freq_pipeline, most_frequent_cols),\n",
    "    ('ffill_cat', ffill_pipeline, ffill_cols),\n",
    "    ('num', num_pipeline, num_cols)\n",
    "])"
   ]
  },
  {
   "cell_type": "code",
   "execution_count": 21,
   "id": "ca160892",
   "metadata": {
    "execution": {
     "iopub.execute_input": "2025-04-24T08:01:58.295212Z",
     "iopub.status.busy": "2025-04-24T08:01:58.293332Z",
     "iopub.status.idle": "2025-04-24T08:01:58.401514Z",
     "shell.execute_reply": "2025-04-24T08:01:58.400609Z"
    },
    "papermill": {
     "duration": 0.119319,
     "end_time": "2025-04-24T08:01:58.403317",
     "exception": false,
     "start_time": "2025-04-24T08:01:58.283998",
     "status": "completed"
    },
    "tags": []
   },
   "outputs": [
    {
     "data": {
      "text/plain": [
       "array([ 0.        ,  0.        ,  0.        ,  0.        ,  0.        ,\n",
       "        0.        ,  0.15478384, -0.50302697, -0.31691144, -0.87625475,\n",
       "       -0.38883121, -0.19997958,  0.09943872, -1.00801519,  1.92120314,\n",
       "       -1.40389741, -0.02838968, -0.81986736])"
      ]
     },
     "execution_count": 21,
     "metadata": {},
     "output_type": "execute_result"
    }
   ],
   "source": [
    "X_transformed=full_pipeline.fit_transform(X)\n",
    "X_transformed[0]"
   ]
  },
  {
   "cell_type": "markdown",
   "id": "651b4bcf",
   "metadata": {
    "papermill": {
     "duration": 0.008271,
     "end_time": "2025-04-24T08:01:58.420282",
     "exception": false,
     "start_time": "2025-04-24T08:01:58.412011",
     "status": "completed"
    },
    "tags": []
   },
   "source": [
    "## **Step 3: Train and Test set**"
   ]
  },
  {
   "cell_type": "code",
   "execution_count": 22,
   "id": "c4a71193",
   "metadata": {
    "execution": {
     "iopub.execute_input": "2025-04-24T08:01:58.440504Z",
     "iopub.status.busy": "2025-04-24T08:01:58.440191Z",
     "iopub.status.idle": "2025-04-24T08:01:58.447809Z",
     "shell.execute_reply": "2025-04-24T08:01:58.447146Z"
    },
    "papermill": {
     "duration": 0.020736,
     "end_time": "2025-04-24T08:01:58.449340",
     "exception": false,
     "start_time": "2025-04-24T08:01:58.428604",
     "status": "completed"
    },
    "tags": []
   },
   "outputs": [],
   "source": [
    "X_train, X_test, y_train, y_test = train_test_split(X_transformed, y, test_size=0.2, random_state=42)"
   ]
  },
  {
   "cell_type": "markdown",
   "id": "4b969849",
   "metadata": {
    "papermill": {
     "duration": 0.008217,
     "end_time": "2025-04-24T08:01:58.466222",
     "exception": false,
     "start_time": "2025-04-24T08:01:58.458005",
     "status": "completed"
    },
    "tags": []
   },
   "source": [
    "## **Step 4 : Machine Learning Models**"
   ]
  },
  {
   "cell_type": "markdown",
   "id": "872a404b",
   "metadata": {
    "papermill": {
     "duration": 0.008204,
     "end_time": "2025-04-24T08:01:58.483472",
     "exception": false,
     "start_time": "2025-04-24T08:01:58.475268",
     "status": "completed"
    },
    "tags": []
   },
   "source": [
    "## **LogisticRegression Model**"
   ]
  },
  {
   "cell_type": "code",
   "execution_count": 23,
   "id": "1335bd4f",
   "metadata": {
    "execution": {
     "iopub.execute_input": "2025-04-24T08:01:58.502211Z",
     "iopub.status.busy": "2025-04-24T08:01:58.501862Z",
     "iopub.status.idle": "2025-04-24T08:01:58.938325Z",
     "shell.execute_reply": "2025-04-24T08:01:58.936065Z"
    },
    "papermill": {
     "duration": 0.447849,
     "end_time": "2025-04-24T08:01:58.940240",
     "exception": false,
     "start_time": "2025-04-24T08:01:58.492391",
     "status": "completed"
    },
    "tags": []
   },
   "outputs": [
    {
     "data": {
      "text/html": [
       "<style>#sk-container-id-1 {color: black;background-color: white;}#sk-container-id-1 pre{padding: 0;}#sk-container-id-1 div.sk-toggleable {background-color: white;}#sk-container-id-1 label.sk-toggleable__label {cursor: pointer;display: block;width: 100%;margin-bottom: 0;padding: 0.3em;box-sizing: border-box;text-align: center;}#sk-container-id-1 label.sk-toggleable__label-arrow:before {content: \"▸\";float: left;margin-right: 0.25em;color: #696969;}#sk-container-id-1 label.sk-toggleable__label-arrow:hover:before {color: black;}#sk-container-id-1 div.sk-estimator:hover label.sk-toggleable__label-arrow:before {color: black;}#sk-container-id-1 div.sk-toggleable__content {max-height: 0;max-width: 0;overflow: hidden;text-align: left;background-color: #f0f8ff;}#sk-container-id-1 div.sk-toggleable__content pre {margin: 0.2em;color: black;border-radius: 0.25em;background-color: #f0f8ff;}#sk-container-id-1 input.sk-toggleable__control:checked~div.sk-toggleable__content {max-height: 200px;max-width: 100%;overflow: auto;}#sk-container-id-1 input.sk-toggleable__control:checked~label.sk-toggleable__label-arrow:before {content: \"▾\";}#sk-container-id-1 div.sk-estimator input.sk-toggleable__control:checked~label.sk-toggleable__label {background-color: #d4ebff;}#sk-container-id-1 div.sk-label input.sk-toggleable__control:checked~label.sk-toggleable__label {background-color: #d4ebff;}#sk-container-id-1 input.sk-hidden--visually {border: 0;clip: rect(1px 1px 1px 1px);clip: rect(1px, 1px, 1px, 1px);height: 1px;margin: -1px;overflow: hidden;padding: 0;position: absolute;width: 1px;}#sk-container-id-1 div.sk-estimator {font-family: monospace;background-color: #f0f8ff;border: 1px dotted black;border-radius: 0.25em;box-sizing: border-box;margin-bottom: 0.5em;}#sk-container-id-1 div.sk-estimator:hover {background-color: #d4ebff;}#sk-container-id-1 div.sk-parallel-item::after {content: \"\";width: 100%;border-bottom: 1px solid gray;flex-grow: 1;}#sk-container-id-1 div.sk-label:hover label.sk-toggleable__label {background-color: #d4ebff;}#sk-container-id-1 div.sk-serial::before {content: \"\";position: absolute;border-left: 1px solid gray;box-sizing: border-box;top: 0;bottom: 0;left: 50%;z-index: 0;}#sk-container-id-1 div.sk-serial {display: flex;flex-direction: column;align-items: center;background-color: white;padding-right: 0.2em;padding-left: 0.2em;position: relative;}#sk-container-id-1 div.sk-item {position: relative;z-index: 1;}#sk-container-id-1 div.sk-parallel {display: flex;align-items: stretch;justify-content: center;background-color: white;position: relative;}#sk-container-id-1 div.sk-item::before, #sk-container-id-1 div.sk-parallel-item::before {content: \"\";position: absolute;border-left: 1px solid gray;box-sizing: border-box;top: 0;bottom: 0;left: 50%;z-index: -1;}#sk-container-id-1 div.sk-parallel-item {display: flex;flex-direction: column;z-index: 1;position: relative;background-color: white;}#sk-container-id-1 div.sk-parallel-item:first-child::after {align-self: flex-end;width: 50%;}#sk-container-id-1 div.sk-parallel-item:last-child::after {align-self: flex-start;width: 50%;}#sk-container-id-1 div.sk-parallel-item:only-child::after {width: 0;}#sk-container-id-1 div.sk-dashed-wrapped {border: 1px dashed gray;margin: 0 0.4em 0.5em 0.4em;box-sizing: border-box;padding-bottom: 0.4em;background-color: white;}#sk-container-id-1 div.sk-label label {font-family: monospace;font-weight: bold;display: inline-block;line-height: 1.2em;}#sk-container-id-1 div.sk-label-container {text-align: center;}#sk-container-id-1 div.sk-container {/* jupyter's `normalize.less` sets `[hidden] { display: none; }` but bootstrap.min.css set `[hidden] { display: none !important; }` so we also need the `!important` here to be able to override the default hidden behavior on the sphinx rendered scikit-learn.org. See: https://github.com/scikit-learn/scikit-learn/issues/21755 */display: inline-block !important;position: relative;}#sk-container-id-1 div.sk-text-repr-fallback {display: none;}</style><div id=\"sk-container-id-1\" class=\"sk-top-container\"><div class=\"sk-text-repr-fallback\"><pre>LogisticRegression(multi_class=&#x27;multinomial&#x27;)</pre><b>In a Jupyter environment, please rerun this cell to show the HTML representation or trust the notebook. <br />On GitHub, the HTML representation is unable to render, please try loading this page with nbviewer.org.</b></div><div class=\"sk-container\" hidden><div class=\"sk-item\"><div class=\"sk-estimator sk-toggleable\"><input class=\"sk-toggleable__control sk-hidden--visually\" id=\"sk-estimator-id-1\" type=\"checkbox\" checked><label for=\"sk-estimator-id-1\" class=\"sk-toggleable__label sk-toggleable__label-arrow\">LogisticRegression</label><div class=\"sk-toggleable__content\"><pre>LogisticRegression(multi_class=&#x27;multinomial&#x27;)</pre></div></div></div></div></div>"
      ],
      "text/plain": [
       "LogisticRegression(multi_class='multinomial')"
      ]
     },
     "execution_count": 23,
     "metadata": {},
     "output_type": "execute_result"
    }
   ],
   "source": [
    "LR_model=LogisticRegression(multi_class='multinomial', solver='lbfgs')\n",
    "LR_model.fit(X_train, y_train)"
   ]
  },
  {
   "cell_type": "code",
   "execution_count": 24,
   "id": "3a9ef7d6",
   "metadata": {
    "execution": {
     "iopub.execute_input": "2025-04-24T08:01:58.973064Z",
     "iopub.status.busy": "2025-04-24T08:01:58.972698Z",
     "iopub.status.idle": "2025-04-24T08:01:59.017516Z",
     "shell.execute_reply": "2025-04-24T08:01:59.015054Z"
    },
    "papermill": {
     "duration": 0.062996,
     "end_time": "2025-04-24T08:01:59.019229",
     "exception": false,
     "start_time": "2025-04-24T08:01:58.956233",
     "status": "completed"
    },
    "tags": []
   },
   "outputs": [
    {
     "name": "stdout",
     "output_type": "stream",
     "text": [
      "Log Loss:  0.46563403158656924\n"
     ]
    }
   ],
   "source": [
    "# Model evaluation\n",
    "y_pred_proba = LR_model.predict_proba(X_test)\n",
    "loss = log_loss(y_test, y_pred_proba)\n",
    "print(\"Log Loss: \" ,loss)"
   ]
  },
  {
   "cell_type": "markdown",
   "id": "574258a7",
   "metadata": {
    "papermill": {
     "duration": 0.008817,
     "end_time": "2025-04-24T08:01:59.042509",
     "exception": false,
     "start_time": "2025-04-24T08:01:59.033692",
     "status": "completed"
    },
    "tags": []
   },
   "source": [
    "## **RandomForestClassifier Model**"
   ]
  },
  {
   "cell_type": "code",
   "execution_count": 25,
   "id": "9005a3df",
   "metadata": {
    "execution": {
     "iopub.execute_input": "2025-04-24T08:01:59.062350Z",
     "iopub.status.busy": "2025-04-24T08:01:59.062029Z",
     "iopub.status.idle": "2025-04-24T08:01:59.867091Z",
     "shell.execute_reply": "2025-04-24T08:01:59.866036Z"
    },
    "papermill": {
     "duration": 0.816671,
     "end_time": "2025-04-24T08:01:59.868759",
     "exception": false,
     "start_time": "2025-04-24T08:01:59.052088",
     "status": "completed"
    },
    "tags": []
   },
   "outputs": [
    {
     "data": {
      "text/html": [
       "<style>#sk-container-id-2 {color: black;background-color: white;}#sk-container-id-2 pre{padding: 0;}#sk-container-id-2 div.sk-toggleable {background-color: white;}#sk-container-id-2 label.sk-toggleable__label {cursor: pointer;display: block;width: 100%;margin-bottom: 0;padding: 0.3em;box-sizing: border-box;text-align: center;}#sk-container-id-2 label.sk-toggleable__label-arrow:before {content: \"▸\";float: left;margin-right: 0.25em;color: #696969;}#sk-container-id-2 label.sk-toggleable__label-arrow:hover:before {color: black;}#sk-container-id-2 div.sk-estimator:hover label.sk-toggleable__label-arrow:before {color: black;}#sk-container-id-2 div.sk-toggleable__content {max-height: 0;max-width: 0;overflow: hidden;text-align: left;background-color: #f0f8ff;}#sk-container-id-2 div.sk-toggleable__content pre {margin: 0.2em;color: black;border-radius: 0.25em;background-color: #f0f8ff;}#sk-container-id-2 input.sk-toggleable__control:checked~div.sk-toggleable__content {max-height: 200px;max-width: 100%;overflow: auto;}#sk-container-id-2 input.sk-toggleable__control:checked~label.sk-toggleable__label-arrow:before {content: \"▾\";}#sk-container-id-2 div.sk-estimator input.sk-toggleable__control:checked~label.sk-toggleable__label {background-color: #d4ebff;}#sk-container-id-2 div.sk-label input.sk-toggleable__control:checked~label.sk-toggleable__label {background-color: #d4ebff;}#sk-container-id-2 input.sk-hidden--visually {border: 0;clip: rect(1px 1px 1px 1px);clip: rect(1px, 1px, 1px, 1px);height: 1px;margin: -1px;overflow: hidden;padding: 0;position: absolute;width: 1px;}#sk-container-id-2 div.sk-estimator {font-family: monospace;background-color: #f0f8ff;border: 1px dotted black;border-radius: 0.25em;box-sizing: border-box;margin-bottom: 0.5em;}#sk-container-id-2 div.sk-estimator:hover {background-color: #d4ebff;}#sk-container-id-2 div.sk-parallel-item::after {content: \"\";width: 100%;border-bottom: 1px solid gray;flex-grow: 1;}#sk-container-id-2 div.sk-label:hover label.sk-toggleable__label {background-color: #d4ebff;}#sk-container-id-2 div.sk-serial::before {content: \"\";position: absolute;border-left: 1px solid gray;box-sizing: border-box;top: 0;bottom: 0;left: 50%;z-index: 0;}#sk-container-id-2 div.sk-serial {display: flex;flex-direction: column;align-items: center;background-color: white;padding-right: 0.2em;padding-left: 0.2em;position: relative;}#sk-container-id-2 div.sk-item {position: relative;z-index: 1;}#sk-container-id-2 div.sk-parallel {display: flex;align-items: stretch;justify-content: center;background-color: white;position: relative;}#sk-container-id-2 div.sk-item::before, #sk-container-id-2 div.sk-parallel-item::before {content: \"\";position: absolute;border-left: 1px solid gray;box-sizing: border-box;top: 0;bottom: 0;left: 50%;z-index: -1;}#sk-container-id-2 div.sk-parallel-item {display: flex;flex-direction: column;z-index: 1;position: relative;background-color: white;}#sk-container-id-2 div.sk-parallel-item:first-child::after {align-self: flex-end;width: 50%;}#sk-container-id-2 div.sk-parallel-item:last-child::after {align-self: flex-start;width: 50%;}#sk-container-id-2 div.sk-parallel-item:only-child::after {width: 0;}#sk-container-id-2 div.sk-dashed-wrapped {border: 1px dashed gray;margin: 0 0.4em 0.5em 0.4em;box-sizing: border-box;padding-bottom: 0.4em;background-color: white;}#sk-container-id-2 div.sk-label label {font-family: monospace;font-weight: bold;display: inline-block;line-height: 1.2em;}#sk-container-id-2 div.sk-label-container {text-align: center;}#sk-container-id-2 div.sk-container {/* jupyter's `normalize.less` sets `[hidden] { display: none; }` but bootstrap.min.css set `[hidden] { display: none !important; }` so we also need the `!important` here to be able to override the default hidden behavior on the sphinx rendered scikit-learn.org. See: https://github.com/scikit-learn/scikit-learn/issues/21755 */display: inline-block !important;position: relative;}#sk-container-id-2 div.sk-text-repr-fallback {display: none;}</style><div id=\"sk-container-id-2\" class=\"sk-top-container\"><div class=\"sk-text-repr-fallback\"><pre>RandomForestClassifier(max_depth=5, random_state=42)</pre><b>In a Jupyter environment, please rerun this cell to show the HTML representation or trust the notebook. <br />On GitHub, the HTML representation is unable to render, please try loading this page with nbviewer.org.</b></div><div class=\"sk-container\" hidden><div class=\"sk-item\"><div class=\"sk-estimator sk-toggleable\"><input class=\"sk-toggleable__control sk-hidden--visually\" id=\"sk-estimator-id-2\" type=\"checkbox\" checked><label for=\"sk-estimator-id-2\" class=\"sk-toggleable__label sk-toggleable__label-arrow\">RandomForestClassifier</label><div class=\"sk-toggleable__content\"><pre>RandomForestClassifier(max_depth=5, random_state=42)</pre></div></div></div></div></div>"
      ],
      "text/plain": [
       "RandomForestClassifier(max_depth=5, random_state=42)"
      ]
     },
     "execution_count": 25,
     "metadata": {},
     "output_type": "execute_result"
    }
   ],
   "source": [
    "RF_model=RandomForestClassifier(n_estimators=100, max_depth=5, random_state=42)\n",
    "RF_model.fit(X_train, y_train)"
   ]
  },
  {
   "cell_type": "code",
   "execution_count": 26,
   "id": "1ae302f9",
   "metadata": {
    "execution": {
     "iopub.execute_input": "2025-04-24T08:01:59.889076Z",
     "iopub.status.busy": "2025-04-24T08:01:59.888552Z",
     "iopub.status.idle": "2025-04-24T08:01:59.932726Z",
     "shell.execute_reply": "2025-04-24T08:01:59.931523Z"
    },
    "papermill": {
     "duration": 0.056261,
     "end_time": "2025-04-24T08:01:59.934273",
     "exception": false,
     "start_time": "2025-04-24T08:01:59.878012",
     "status": "completed"
    },
    "tags": []
   },
   "outputs": [
    {
     "name": "stdout",
     "output_type": "stream",
     "text": [
      "Log Loss:  0.4317231627947693\n"
     ]
    }
   ],
   "source": [
    "y_pred_proba = RF_model.predict_proba(X_test)\n",
    "loss = log_loss(y_test, y_pred_proba)\n",
    "print(\"Log Loss: \" ,loss)"
   ]
  },
  {
   "cell_type": "markdown",
   "id": "ef930776",
   "metadata": {
    "papermill": {
     "duration": 0.008907,
     "end_time": "2025-04-24T08:01:59.952560",
     "exception": false,
     "start_time": "2025-04-24T08:01:59.943653",
     "status": "completed"
    },
    "tags": []
   },
   "source": [
    "## **GradientBoostingClassifier Model**"
   ]
  },
  {
   "cell_type": "code",
   "execution_count": 27,
   "id": "e597a6eb",
   "metadata": {
    "execution": {
     "iopub.execute_input": "2025-04-24T08:01:59.972454Z",
     "iopub.status.busy": "2025-04-24T08:01:59.972150Z",
     "iopub.status.idle": "2025-04-24T08:03:57.197136Z",
     "shell.execute_reply": "2025-04-24T08:03:57.196132Z"
    },
    "papermill": {
     "duration": 117.237375,
     "end_time": "2025-04-24T08:03:57.199023",
     "exception": false,
     "start_time": "2025-04-24T08:01:59.961648",
     "status": "completed"
    },
    "tags": []
   },
   "outputs": [],
   "source": [
    "GB_model=GradientBoostingClassifier(n_estimators=1000, learning_rate=0.05, max_depth=5, random_state=42)\n",
    "GB_model.fit(X_train, y_train)\n",
    "y_preda_proba = GB_model.predict_proba(X_test)"
   ]
  },
  {
   "cell_type": "code",
   "execution_count": 28,
   "id": "b9c17fb9",
   "metadata": {
    "execution": {
     "iopub.execute_input": "2025-04-24T08:03:57.219234Z",
     "iopub.status.busy": "2025-04-24T08:03:57.218906Z",
     "iopub.status.idle": "2025-04-24T08:03:57.234060Z",
     "shell.execute_reply": "2025-04-24T08:03:57.233034Z"
    },
    "papermill": {
     "duration": 0.027,
     "end_time": "2025-04-24T08:03:57.235526",
     "exception": false,
     "start_time": "2025-04-24T08:03:57.208526",
     "status": "completed"
    },
    "tags": []
   },
   "outputs": [
    {
     "name": "stdout",
     "output_type": "stream",
     "text": [
      "Log Loss:  0.4317231627947693\n"
     ]
    }
   ],
   "source": [
    "loss = log_loss(y_test, y_pred_proba)\n",
    "print(\"Log Loss: \" ,loss)"
   ]
  },
  {
   "cell_type": "markdown",
   "id": "b060fe85",
   "metadata": {
    "papermill": {
     "duration": 0.008989,
     "end_time": "2025-04-24T08:03:57.254430",
     "exception": false,
     "start_time": "2025-04-24T08:03:57.245441",
     "status": "completed"
    },
    "tags": []
   },
   "source": [
    "## **XGBoost Classifier Model**"
   ]
  },
  {
   "cell_type": "code",
   "execution_count": 29,
   "id": "c09a520e",
   "metadata": {
    "execution": {
     "iopub.execute_input": "2025-04-24T08:03:57.274292Z",
     "iopub.status.busy": "2025-04-24T08:03:57.273947Z",
     "iopub.status.idle": "2025-04-24T08:03:57.281827Z",
     "shell.execute_reply": "2025-04-24T08:03:57.280864Z"
    },
    "papermill": {
     "duration": 0.019911,
     "end_time": "2025-04-24T08:03:57.283460",
     "exception": false,
     "start_time": "2025-04-24T08:03:57.263549",
     "status": "completed"
    },
    "tags": []
   },
   "outputs": [],
   "source": [
    "le=LabelEncoder()\n",
    "y_train_encoded=le.fit_transform(y_train)\n",
    "y_test_encoded=le.fit_transform(y_test)"
   ]
  },
  {
   "cell_type": "code",
   "execution_count": 30,
   "id": "458253d9",
   "metadata": {
    "execution": {
     "iopub.execute_input": "2025-04-24T08:03:57.304747Z",
     "iopub.status.busy": "2025-04-24T08:03:57.304122Z",
     "iopub.status.idle": "2025-04-24T08:03:57.987056Z",
     "shell.execute_reply": "2025-04-24T08:03:57.986331Z"
    },
    "papermill": {
     "duration": 0.695773,
     "end_time": "2025-04-24T08:03:57.988849",
     "exception": false,
     "start_time": "2025-04-24T08:03:57.293076",
     "status": "completed"
    },
    "tags": []
   },
   "outputs": [],
   "source": [
    "XGB_model = xgb.XGBClassifier(use_label_encoder=False, eval_metric='logloss', random_state=42)\n",
    "XGB_model.fit(X_train, y_train_encoded)\n",
    "y_proba=XGB_model.predict_proba(X_test)"
   ]
  },
  {
   "cell_type": "code",
   "execution_count": 31,
   "id": "d03f976a",
   "metadata": {
    "execution": {
     "iopub.execute_input": "2025-04-24T08:03:58.013887Z",
     "iopub.status.busy": "2025-04-24T08:03:58.013089Z",
     "iopub.status.idle": "2025-04-24T08:03:58.023596Z",
     "shell.execute_reply": "2025-04-24T08:03:58.022433Z"
    },
    "papermill": {
     "duration": 0.022705,
     "end_time": "2025-04-24T08:03:58.025139",
     "exception": false,
     "start_time": "2025-04-24T08:03:58.002434",
     "status": "completed"
    },
    "tags": []
   },
   "outputs": [
    {
     "name": "stdout",
     "output_type": "stream",
     "text": [
      "Log Loss:  0.39455271298444533\n"
     ]
    }
   ],
   "source": [
    "loss = log_loss(y_test_encoded, y_proba)\n",
    "print(\"Log Loss: \" ,loss)"
   ]
  },
  {
   "cell_type": "markdown",
   "id": "d5f645f0",
   "metadata": {
    "papermill": {
     "duration": 0.008874,
     "end_time": "2025-04-24T08:03:58.043878",
     "exception": false,
     "start_time": "2025-04-24T08:03:58.035004",
     "status": "completed"
    },
    "tags": []
   },
   "source": [
    "**The least loss** was reached by **XGBoost Classifier** with log_loss : **0.39**45....."
   ]
  },
  {
   "cell_type": "markdown",
   "id": "3dd43e4f",
   "metadata": {
    "papermill": {
     "duration": 0.008703,
     "end_time": "2025-04-24T08:03:58.061573",
     "exception": false,
     "start_time": "2025-04-24T08:03:58.052870",
     "status": "completed"
    },
    "tags": []
   },
   "source": [
    "## **Step 6 : Submission**"
   ]
  },
  {
   "cell_type": "code",
   "execution_count": 32,
   "id": "9dc82f31",
   "metadata": {
    "execution": {
     "iopub.execute_input": "2025-04-24T08:03:58.080919Z",
     "iopub.status.busy": "2025-04-24T08:03:58.080578Z",
     "iopub.status.idle": "2025-04-24T08:03:58.115814Z",
     "shell.execute_reply": "2025-04-24T08:03:58.114759Z"
    },
    "papermill": {
     "duration": 0.047007,
     "end_time": "2025-04-24T08:03:58.117573",
     "exception": false,
     "start_time": "2025-04-24T08:03:58.070566",
     "status": "completed"
    },
    "tags": []
   },
   "outputs": [],
   "source": [
    "test_transformed=full_pipeline.transform(test)"
   ]
  },
  {
   "cell_type": "code",
   "execution_count": 33,
   "id": "77fecaa9",
   "metadata": {
    "execution": {
     "iopub.execute_input": "2025-04-24T08:03:58.140239Z",
     "iopub.status.busy": "2025-04-24T08:03:58.139856Z",
     "iopub.status.idle": "2025-04-24T08:03:58.231215Z",
     "shell.execute_reply": "2025-04-24T08:03:58.230296Z"
    },
    "papermill": {
     "duration": 0.103275,
     "end_time": "2025-04-24T08:03:58.232980",
     "exception": false,
     "start_time": "2025-04-24T08:03:58.129705",
     "status": "completed"
    },
    "tags": []
   },
   "outputs": [
    {
     "name": "stdout",
     "output_type": "stream",
     "text": [
      "         id  Status_C  Status_CL  Status_D\n",
      "0     15000  0.431272   0.000851  0.567877\n",
      "1     15001  0.968492   0.005400  0.026108\n",
      "2     15002  0.595574   0.001505  0.402921\n",
      "3     15003  0.989028   0.000078  0.010893\n",
      "4     15004  0.199273   0.227788  0.572940\n",
      "...     ...       ...        ...       ...\n",
      "9995  24995  0.982037   0.004179  0.013784\n",
      "9996  24996  0.005708   0.000538  0.993754\n",
      "9997  24997  0.936188   0.001744  0.062068\n",
      "9998  24998  0.984116   0.000127  0.015757\n",
      "9999  24999  0.734442   0.024510  0.241048\n",
      "\n",
      "[10000 rows x 4 columns]\n"
     ]
    }
   ],
   "source": [
    "test_predictions = XGB_model.predict_proba(test_transformed)\n",
    "\n",
    "if 'id' in test.columns:\n",
    "    submission = pd.DataFrame({'id': test['id']})\n",
    "else:\n",
    "    submission = pd.DataFrame({'id': range(15000, 15000+len(test))})\n",
    "\n",
    "submission[['Status_C', 'Status_CL', 'Status_D']] = test_predictions\n",
    "\n",
    "submission.to_csv('submission.csv', index=False)\n",
    "print(submission)"
   ]
  }
 ],
 "metadata": {
  "kaggle": {
   "accelerator": "none",
   "dataSources": [
    {
     "databundleVersionId": 9248778,
     "sourceId": 83459,
     "sourceType": "competition"
    }
   ],
   "dockerImageVersionId": 31012,
   "isGpuEnabled": false,
   "isInternetEnabled": true,
   "language": "python",
   "sourceType": "notebook"
  },
  "kernelspec": {
   "display_name": "Python 3",
   "language": "python",
   "name": "python3"
  },
  "language_info": {
   "codemirror_mode": {
    "name": "ipython",
    "version": 3
   },
   "file_extension": ".py",
   "mimetype": "text/x-python",
   "name": "python",
   "nbconvert_exporter": "python",
   "pygments_lexer": "ipython3",
   "version": "3.11.11"
  },
  "papermill": {
   "default_parameters": {},
   "duration": 132.325415,
   "end_time": "2025-04-24T08:03:59.064417",
   "environment_variables": {},
   "exception": null,
   "input_path": "__notebook__.ipynb",
   "output_path": "__notebook__.ipynb",
   "parameters": {},
   "start_time": "2025-04-24T08:01:46.739002",
   "version": "2.6.0"
  }
 },
 "nbformat": 4,
 "nbformat_minor": 5
}
